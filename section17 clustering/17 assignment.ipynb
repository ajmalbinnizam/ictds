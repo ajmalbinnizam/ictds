{
 "cells": [
  {
   "cell_type": "code",
   "execution_count": 1,
   "metadata": {},
   "outputs": [],
   "source": [
    "import numpy as np\n",
    "import pandas as pd\n",
    "import matplotlib.pyplot as plt\n"
   ]
  },
  {
   "cell_type": "code",
   "execution_count": 2,
   "metadata": {},
   "outputs": [
    {
     "name": "stdout",
     "output_type": "stream",
     "text": [
      "<class 'pandas.core.frame.DataFrame'>\n",
      "RangeIndex: 178 entries, 0 to 177\n",
      "Data columns (total 13 columns):\n",
      " #   Column                Non-Null Count  Dtype  \n",
      "---  ------                --------------  -----  \n",
      " 0   Alcohol               178 non-null    float64\n",
      " 1   Malic_Acid            178 non-null    float64\n",
      " 2   Ash                   178 non-null    float64\n",
      " 3   Ash_Alcanity          178 non-null    float64\n",
      " 4   Magnesium             178 non-null    int64  \n",
      " 5   Total_Phenols         178 non-null    float64\n",
      " 6   Flavanoids            178 non-null    float64\n",
      " 7   Nonflavanoid_Phenols  178 non-null    float64\n",
      " 8   Proanthocyanins       178 non-null    float64\n",
      " 9   Color_Intensity       178 non-null    float64\n",
      " 10  Hue                   178 non-null    float64\n",
      " 11  OD280                 178 non-null    float64\n",
      " 12  Proline               178 non-null    int64  \n",
      "dtypes: float64(11), int64(2)\n",
      "memory usage: 18.2 KB\n"
     ]
    }
   ],
   "source": [
    "data = pd.read_csv(\"Wine_clust.csv\")\n",
    "data.info()"
   ]
  },
  {
   "cell_type": "code",
   "execution_count": 3,
   "metadata": {},
   "outputs": [
    {
     "data": {
      "text/html": [
       "<div>\n",
       "<style scoped>\n",
       "    .dataframe tbody tr th:only-of-type {\n",
       "        vertical-align: middle;\n",
       "    }\n",
       "\n",
       "    .dataframe tbody tr th {\n",
       "        vertical-align: top;\n",
       "    }\n",
       "\n",
       "    .dataframe thead th {\n",
       "        text-align: right;\n",
       "    }\n",
       "</style>\n",
       "<table border=\"1\" class=\"dataframe\">\n",
       "  <thead>\n",
       "    <tr style=\"text-align: right;\">\n",
       "      <th></th>\n",
       "      <th>Alcohol</th>\n",
       "      <th>Malic_Acid</th>\n",
       "      <th>Ash</th>\n",
       "      <th>Ash_Alcanity</th>\n",
       "      <th>Magnesium</th>\n",
       "      <th>Total_Phenols</th>\n",
       "      <th>Flavanoids</th>\n",
       "      <th>Nonflavanoid_Phenols</th>\n",
       "      <th>Proanthocyanins</th>\n",
       "      <th>Color_Intensity</th>\n",
       "      <th>Hue</th>\n",
       "      <th>OD280</th>\n",
       "      <th>Proline</th>\n",
       "    </tr>\n",
       "  </thead>\n",
       "  <tbody>\n",
       "    <tr>\n",
       "      <th>0</th>\n",
       "      <td>14.23</td>\n",
       "      <td>1.71</td>\n",
       "      <td>2.43</td>\n",
       "      <td>15.6</td>\n",
       "      <td>127</td>\n",
       "      <td>2.80</td>\n",
       "      <td>3.06</td>\n",
       "      <td>0.28</td>\n",
       "      <td>2.29</td>\n",
       "      <td>5.64</td>\n",
       "      <td>1.04</td>\n",
       "      <td>3.92</td>\n",
       "      <td>1065</td>\n",
       "    </tr>\n",
       "    <tr>\n",
       "      <th>1</th>\n",
       "      <td>13.20</td>\n",
       "      <td>1.78</td>\n",
       "      <td>2.14</td>\n",
       "      <td>11.2</td>\n",
       "      <td>100</td>\n",
       "      <td>2.65</td>\n",
       "      <td>2.76</td>\n",
       "      <td>0.26</td>\n",
       "      <td>1.28</td>\n",
       "      <td>4.38</td>\n",
       "      <td>1.05</td>\n",
       "      <td>3.40</td>\n",
       "      <td>1050</td>\n",
       "    </tr>\n",
       "    <tr>\n",
       "      <th>2</th>\n",
       "      <td>13.16</td>\n",
       "      <td>2.36</td>\n",
       "      <td>2.67</td>\n",
       "      <td>18.6</td>\n",
       "      <td>101</td>\n",
       "      <td>2.80</td>\n",
       "      <td>3.24</td>\n",
       "      <td>0.30</td>\n",
       "      <td>2.81</td>\n",
       "      <td>5.68</td>\n",
       "      <td>1.03</td>\n",
       "      <td>3.17</td>\n",
       "      <td>1185</td>\n",
       "    </tr>\n",
       "    <tr>\n",
       "      <th>3</th>\n",
       "      <td>14.37</td>\n",
       "      <td>1.95</td>\n",
       "      <td>2.50</td>\n",
       "      <td>16.8</td>\n",
       "      <td>113</td>\n",
       "      <td>3.85</td>\n",
       "      <td>3.49</td>\n",
       "      <td>0.24</td>\n",
       "      <td>2.18</td>\n",
       "      <td>7.80</td>\n",
       "      <td>0.86</td>\n",
       "      <td>3.45</td>\n",
       "      <td>1480</td>\n",
       "    </tr>\n",
       "    <tr>\n",
       "      <th>4</th>\n",
       "      <td>13.24</td>\n",
       "      <td>2.59</td>\n",
       "      <td>2.87</td>\n",
       "      <td>21.0</td>\n",
       "      <td>118</td>\n",
       "      <td>2.80</td>\n",
       "      <td>2.69</td>\n",
       "      <td>0.39</td>\n",
       "      <td>1.82</td>\n",
       "      <td>4.32</td>\n",
       "      <td>1.04</td>\n",
       "      <td>2.93</td>\n",
       "      <td>735</td>\n",
       "    </tr>\n",
       "  </tbody>\n",
       "</table>\n",
       "</div>"
      ],
      "text/plain": [
       "   Alcohol  Malic_Acid   Ash  Ash_Alcanity  Magnesium  Total_Phenols  \\\n",
       "0    14.23        1.71  2.43          15.6        127           2.80   \n",
       "1    13.20        1.78  2.14          11.2        100           2.65   \n",
       "2    13.16        2.36  2.67          18.6        101           2.80   \n",
       "3    14.37        1.95  2.50          16.8        113           3.85   \n",
       "4    13.24        2.59  2.87          21.0        118           2.80   \n",
       "\n",
       "   Flavanoids  Nonflavanoid_Phenols  Proanthocyanins  Color_Intensity   Hue  \\\n",
       "0        3.06                  0.28             2.29             5.64  1.04   \n",
       "1        2.76                  0.26             1.28             4.38  1.05   \n",
       "2        3.24                  0.30             2.81             5.68  1.03   \n",
       "3        3.49                  0.24             2.18             7.80  0.86   \n",
       "4        2.69                  0.39             1.82             4.32  1.04   \n",
       "\n",
       "   OD280  Proline  \n",
       "0   3.92     1065  \n",
       "1   3.40     1050  \n",
       "2   3.17     1185  \n",
       "3   3.45     1480  \n",
       "4   2.93      735  "
      ]
     },
     "execution_count": 3,
     "metadata": {},
     "output_type": "execute_result"
    }
   ],
   "source": [
    "data.head()"
   ]
  },
  {
   "cell_type": "code",
   "execution_count": 4,
   "metadata": {},
   "outputs": [
    {
     "name": "stdout",
     "output_type": "stream",
     "text": [
      "Variable   Type         Data/Info\n",
      "---------------------------------\n",
      "data       DataFrame         Alcohol  Malic_Acid <...>\\n[178 rows x 13 columns]\n",
      "np         module       <module 'numpy' from 'C:\\<...>ges\\\\numpy\\\\__init__.py'>\n",
      "pd         module       <module 'pandas' from 'C:<...>es\\\\pandas\\\\__init__.py'>\n",
      "plt        module       <module 'matplotlib.pyplo<...>\\\\matplotlib\\\\pyplot.py'>\n"
     ]
    }
   ],
   "source": [
    "#modules loaded in your computer memory\n",
    "%whos "
   ]
  },
  {
   "cell_type": "code",
   "execution_count": 5,
   "metadata": {},
   "outputs": [
    {
     "data": {
      "text/plain": [
       "Alcohol                 float64\n",
       "Malic_Acid              float64\n",
       "Ash                     float64\n",
       "Ash_Alcanity            float64\n",
       "Magnesium                 int64\n",
       "Total_Phenols           float64\n",
       "Flavanoids              float64\n",
       "Nonflavanoid_Phenols    float64\n",
       "Proanthocyanins         float64\n",
       "Color_Intensity         float64\n",
       "Hue                     float64\n",
       "OD280                   float64\n",
       "Proline                   int64\n",
       "dtype: object"
      ]
     },
     "execution_count": 5,
     "metadata": {},
     "output_type": "execute_result"
    }
   ],
   "source": [
    "data.dtypes"
   ]
  },
  {
   "cell_type": "code",
   "execution_count": 6,
   "metadata": {},
   "outputs": [
    {
     "data": {
      "text/plain": [
       "Alcohol                 0\n",
       "Malic_Acid              0\n",
       "Ash                     0\n",
       "Ash_Alcanity            0\n",
       "Magnesium               0\n",
       "Total_Phenols           0\n",
       "Flavanoids              0\n",
       "Nonflavanoid_Phenols    0\n",
       "Proanthocyanins         0\n",
       "Color_Intensity         0\n",
       "Hue                     0\n",
       "OD280                   0\n",
       "Proline                 0\n",
       "dtype: int64"
      ]
     },
     "execution_count": 6,
     "metadata": {},
     "output_type": "execute_result"
    }
   ],
   "source": [
    "data.isnull().sum()"
   ]
  },
  {
   "cell_type": "code",
   "execution_count": 24,
   "metadata": {},
   "outputs": [
    {
     "data": {
      "text/plain": [
       "array([[  14.23, 1065.  ],\n",
       "       [  13.2 , 1050.  ],\n",
       "       [  13.16, 1185.  ],\n",
       "       [  14.37, 1480.  ],\n",
       "       [  13.24,  735.  ],\n",
       "       [  14.2 , 1450.  ],\n",
       "       [  14.39, 1290.  ],\n",
       "       [  14.06, 1295.  ],\n",
       "       [  14.83, 1045.  ],\n",
       "       [  13.86, 1045.  ],\n",
       "       [  14.1 , 1510.  ],\n",
       "       [  14.12, 1280.  ],\n",
       "       [  13.75, 1320.  ],\n",
       "       [  14.75, 1150.  ],\n",
       "       [  14.38, 1547.  ],\n",
       "       [  13.63, 1310.  ],\n",
       "       [  14.3 , 1280.  ],\n",
       "       [  13.83, 1130.  ],\n",
       "       [  14.19, 1680.  ],\n",
       "       [  13.64,  845.  ],\n",
       "       [  14.06,  780.  ],\n",
       "       [  12.93,  770.  ],\n",
       "       [  13.71, 1035.  ],\n",
       "       [  12.85, 1015.  ],\n",
       "       [  13.5 ,  845.  ],\n",
       "       [  13.05,  830.  ],\n",
       "       [  13.39, 1195.  ],\n",
       "       [  13.3 , 1285.  ],\n",
       "       [  13.87,  915.  ],\n",
       "       [  14.02, 1035.  ],\n",
       "       [  13.73, 1285.  ],\n",
       "       [  13.58, 1515.  ],\n",
       "       [  13.68,  990.  ],\n",
       "       [  13.76, 1235.  ],\n",
       "       [  13.51, 1095.  ],\n",
       "       [  13.48,  920.  ],\n",
       "       [  13.28,  880.  ],\n",
       "       [  13.05, 1105.  ],\n",
       "       [  13.07, 1020.  ],\n",
       "       [  14.22,  760.  ],\n",
       "       [  13.56,  795.  ],\n",
       "       [  13.41, 1035.  ],\n",
       "       [  13.88, 1095.  ],\n",
       "       [  13.24,  680.  ],\n",
       "       [  13.05,  885.  ],\n",
       "       [  14.21, 1080.  ],\n",
       "       [  14.38, 1065.  ],\n",
       "       [  13.9 ,  985.  ],\n",
       "       [  14.1 , 1060.  ],\n",
       "       [  13.94, 1260.  ],\n",
       "       [  13.05, 1150.  ],\n",
       "       [  13.83, 1265.  ],\n",
       "       [  13.82, 1190.  ],\n",
       "       [  13.77, 1375.  ],\n",
       "       [  13.74, 1060.  ],\n",
       "       [  13.56, 1120.  ],\n",
       "       [  14.22,  970.  ],\n",
       "       [  13.29, 1270.  ],\n",
       "       [  13.72, 1285.  ],\n",
       "       [  12.37,  520.  ],\n",
       "       [  12.33,  680.  ],\n",
       "       [  12.64,  450.  ],\n",
       "       [  13.67,  630.  ],\n",
       "       [  12.37,  420.  ],\n",
       "       [  12.17,  355.  ],\n",
       "       [  12.37,  678.  ],\n",
       "       [  13.11,  502.  ],\n",
       "       [  12.37,  510.  ],\n",
       "       [  13.34,  750.  ],\n",
       "       [  12.21,  718.  ],\n",
       "       [  12.29,  870.  ],\n",
       "       [  13.86,  410.  ],\n",
       "       [  13.49,  472.  ],\n",
       "       [  12.99,  985.  ],\n",
       "       [  11.96,  886.  ],\n",
       "       [  11.66,  428.  ],\n",
       "       [  13.03,  392.  ],\n",
       "       [  11.84,  500.  ],\n",
       "       [  12.33,  750.  ],\n",
       "       [  12.7 ,  463.  ],\n",
       "       [  12.  ,  278.  ],\n",
       "       [  12.72,  714.  ],\n",
       "       [  12.08,  630.  ],\n",
       "       [  13.05,  515.  ],\n",
       "       [  11.84,  520.  ],\n",
       "       [  12.67,  450.  ],\n",
       "       [  12.16,  495.  ],\n",
       "       [  11.65,  562.  ],\n",
       "       [  11.64,  680.  ],\n",
       "       [  12.08,  625.  ],\n",
       "       [  12.08,  480.  ],\n",
       "       [  12.  ,  450.  ],\n",
       "       [  12.69,  495.  ],\n",
       "       [  12.29,  290.  ],\n",
       "       [  11.62,  345.  ],\n",
       "       [  12.47,  937.  ],\n",
       "       [  11.81,  625.  ],\n",
       "       [  12.29,  428.  ],\n",
       "       [  12.37,  660.  ],\n",
       "       [  12.29,  406.  ],\n",
       "       [  12.08,  710.  ],\n",
       "       [  12.6 ,  562.  ],\n",
       "       [  12.34,  438.  ],\n",
       "       [  11.82,  415.  ],\n",
       "       [  12.51,  672.  ],\n",
       "       [  12.42,  315.  ],\n",
       "       [  12.25,  510.  ],\n",
       "       [  12.72,  488.  ],\n",
       "       [  12.22,  312.  ],\n",
       "       [  11.61,  680.  ],\n",
       "       [  11.46,  562.  ],\n",
       "       [  12.52,  325.  ],\n",
       "       [  11.76,  607.  ],\n",
       "       [  11.41,  434.  ],\n",
       "       [  12.08,  385.  ],\n",
       "       [  11.03,  407.  ],\n",
       "       [  11.82,  495.  ],\n",
       "       [  12.42,  345.  ],\n",
       "       [  12.77,  372.  ],\n",
       "       [  12.  ,  564.  ],\n",
       "       [  11.45,  625.  ],\n",
       "       [  11.56,  465.  ],\n",
       "       [  12.42,  365.  ],\n",
       "       [  13.05,  380.  ],\n",
       "       [  11.87,  380.  ],\n",
       "       [  12.07,  378.  ],\n",
       "       [  12.43,  352.  ],\n",
       "       [  11.79,  466.  ],\n",
       "       [  12.37,  342.  ],\n",
       "       [  12.04,  580.  ],\n",
       "       [  12.86,  630.  ],\n",
       "       [  12.88,  530.  ],\n",
       "       [  12.81,  560.  ],\n",
       "       [  12.7 ,  600.  ],\n",
       "       [  12.51,  650.  ],\n",
       "       [  12.6 ,  695.  ],\n",
       "       [  12.25,  720.  ],\n",
       "       [  12.53,  515.  ],\n",
       "       [  13.49,  580.  ],\n",
       "       [  12.84,  590.  ],\n",
       "       [  12.93,  600.  ],\n",
       "       [  13.36,  780.  ],\n",
       "       [  13.52,  520.  ],\n",
       "       [  13.62,  550.  ],\n",
       "       [  12.25,  855.  ],\n",
       "       [  13.16,  830.  ],\n",
       "       [  13.88,  415.  ],\n",
       "       [  12.87,  625.  ],\n",
       "       [  13.32,  650.  ],\n",
       "       [  13.08,  550.  ],\n",
       "       [  13.5 ,  500.  ],\n",
       "       [  12.79,  480.  ],\n",
       "       [  13.11,  425.  ],\n",
       "       [  13.23,  675.  ],\n",
       "       [  12.58,  640.  ],\n",
       "       [  13.17,  725.  ],\n",
       "       [  13.84,  480.  ],\n",
       "       [  12.45,  880.  ],\n",
       "       [  14.34,  660.  ],\n",
       "       [  13.48,  620.  ],\n",
       "       [  12.36,  520.  ],\n",
       "       [  13.69,  680.  ],\n",
       "       [  12.85,  570.  ],\n",
       "       [  12.96,  675.  ],\n",
       "       [  13.78,  615.  ],\n",
       "       [  13.73,  520.  ],\n",
       "       [  13.45,  695.  ],\n",
       "       [  12.82,  685.  ],\n",
       "       [  13.58,  750.  ],\n",
       "       [  13.4 ,  630.  ],\n",
       "       [  12.2 ,  510.  ],\n",
       "       [  12.77,  470.  ],\n",
       "       [  14.16,  660.  ],\n",
       "       [  13.71,  740.  ],\n",
       "       [  13.4 ,  750.  ],\n",
       "       [  13.27,  835.  ],\n",
       "       [  13.17,  840.  ],\n",
       "       [  14.13,  560.  ]])"
      ]
     },
     "execution_count": 24,
     "metadata": {},
     "output_type": "execute_result"
    }
   ],
   "source": [
    "\n",
    "#preparation of data\n",
    "#x = data.iloc[:,:].values\n",
    "x = data.iloc[:, [0,12]].values\n",
    "x\n",
    "x"
   ]
  },
  {
   "cell_type": "markdown",
   "metadata": {},
   "source": [
    "# kmeans clustering"
   ]
  },
  {
   "cell_type": "code",
   "execution_count": 25,
   "metadata": {},
   "outputs": [
    {
     "name": "stdout",
     "output_type": "stream",
     "text": [
      "17552625.625942133\n",
      "4507966.185337798\n",
      "2337923.9471920775\n",
      "1298952.7127767839\n",
      "886734.5981977142\n",
      "617685.2945177195\n",
      "381436.5002096008\n",
      "292903.7569162238\n",
      "241360.24770452463\n",
      "190218.79796705063\n",
      "158339.13574663305\n",
      "129585.98806046294\n"
     ]
    }
   ],
   "source": [
    "from sklearn.cluster import KMeans\n",
    "wcss = []\n",
    "for i in range(1,13):\n",
    "    kmeans = KMeans(n_clusters=i, init='k-means++', random_state = 42)\n",
    "    kmeans.fit(x)\n",
    "    wcss.append(kmeans.inertia_)\n",
    "    print(kmeans.inertia_)"
   ]
  },
  {
   "cell_type": "code",
   "execution_count": 26,
   "metadata": {},
   "outputs": [
    {
     "data": {
      "image/png": "[encoded data removed]",
      "text/plain": [
       "<Figure size 432x288 with 1 Axes>"
      ]
     },
     "metadata": {
      "needs_background": "light"
     },
     "output_type": "display_data"
    }
   ],
   "source": [
    "plt.plot(range(1,13),wcss)\n",
    "plt.title(\"The elbow method\")\n",
    "plt.xlabel(\"no of clusters\")\n",
    "plt.ylabel(\"WCSS\")\n",
    "plt.show()"
   ]
  },
  {
   "cell_type": "markdown",
   "metadata": {},
   "source": [
    "<h2> according to the elbow method we can say the optimal number of cluster is 3"
   ]
  },
  {
   "cell_type": "code",
   "execution_count": 27,
   "metadata": {},
   "outputs": [
    {
     "data": {
      "text/plain": [
       "numpy.ndarray"
      ]
     },
     "execution_count": 27,
     "metadata": {},
     "output_type": "execute_result"
    }
   ],
   "source": [
    "kmeans = KMeans(n_clusters = 3, init = \"k-means++\", random_state = 42)\n",
    "y_kmeans = kmeans.fit_predict(x)\n",
    "type(x )\n",
    "\n"
   ]
  },
  {
   "cell_type": "code",
   "execution_count": 28,
   "metadata": {},
   "outputs": [
    {
     "data": {
      "text/plain": [
       "array([1, 1, 1, 1, 0, 1, 1, 1, 1, 1, 1, 1, 1, 1, 1, 1, 1, 1, 1, 0, 0, 0,\n",
       "       1, 1, 0, 0, 1, 1, 0, 1, 1, 1, 1, 1, 1, 0, 0, 1, 1, 0, 0, 1, 1, 0,\n",
       "       0, 1, 1, 1, 1, 1, 1, 1, 1, 1, 1, 1, 1, 1, 1, 2, 0, 2, 0, 2, 2, 0,\n",
       "       2, 2, 0, 0, 0, 2, 2, 1, 0, 2, 2, 2, 0, 2, 2, 0, 0, 2, 2, 2, 2, 2,\n",
       "       0, 0, 2, 2, 2, 2, 2, 0, 0, 2, 0, 2, 0, 2, 2, 2, 0, 2, 2, 2, 2, 0,\n",
       "       2, 2, 0, 2, 2, 2, 2, 2, 2, 2, 0, 2, 2, 2, 2, 2, 2, 2, 2, 2, 0, 2,\n",
       "       2, 0, 0, 0, 0, 2, 2, 2, 0, 0, 2, 2, 0, 0, 2, 0, 0, 2, 2, 2, 2, 0,\n",
       "       0, 0, 2, 0, 0, 0, 2, 0, 2, 0, 0, 2, 0, 0, 0, 0, 2, 2, 0, 0, 0, 0,\n",
       "       0, 2])"
      ]
     },
     "execution_count": 28,
     "metadata": {},
     "output_type": "execute_result"
    }
   ],
   "source": [
    "y_kmeans"
   ]
  },
  {
   "cell_type": "code",
   "execution_count": 29,
   "metadata": {},
   "outputs": [
    {
     "data": {
      "image/png": "[encoded data removed]",
      "text/plain": [
       "<Figure size 432x288 with 1 Axes>"
      ]
     },
     "metadata": {
      "needs_background": "light"
     },
     "output_type": "display_data"
    }
   ],
   "source": [
    "plt.scatter(x[y_kmeans == 0, 0], x[y_kmeans == 0,1], s = 100, c = 'red', label = 'cluster 1')\n",
    "plt.scatter(x[y_kmeans == 1, 0], x[y_kmeans == 1,1], s = 100, c = 'blue', label = 'cluster 2')\n",
    "plt.scatter(x[y_kmeans == 2, 0], x[y_kmeans == 2,1], s = 100, c = 'green', label = 'cluster 3')\n",
    "\n",
    "\n",
    "plt.title('cluster of customer')\n",
    "plt.xlabel('wine quality')\n",
    "plt.ylabel('alcohol')\n",
    "plt.legend()\n",
    "plt.show()"
   ]
  },
  {
   "cell_type": "markdown",
   "metadata": {},
   "source": [
    "# Hierarchial clustering"
   ]
  },
  {
   "cell_type": "code",
   "execution_count": 30,
   "metadata": {},
   "outputs": [
    {
     "data": {
      "image/png": "[encoded data removed]",
      "text/plain": [
       "<Figure size 432x288 with 1 Axes>"
      ]
     },
     "metadata": {
      "needs_background": "light"
     },
     "output_type": "display_data"
    }
   ],
   "source": [
    "import scipy.cluster.hierarchy as sch\n",
    "dendogram = sch.dendrogram(sch.linkage(x, method = \"ward\"))\n",
    "plt.title('dendogram')\n",
    "plt.xlabel('wine quality')\n",
    "plt.ylabel('euclidean distance')\n",
    "plt.show()"
   ]
  },
  {
   "cell_type": "code",
   "execution_count": 31,
   "metadata": {},
   "outputs": [],
   "source": [
    "from sklearn.cluster import AgglomerativeClustering\n",
    "hc = AgglomerativeClustering(n_clusters = 3, affinity = 'euclidean',linkage = 'ward')\n",
    "y_hc = hc.fit_predict(x)"
   ]
  },
  {
   "cell_type": "code",
   "execution_count": 32,
   "metadata": {},
   "outputs": [
    {
     "data": {
      "text/plain": [
       "array([3, 3, 3, 0, 1, 0, 0, 0, 3, 3, 0, 0, 0, 3, 0, 0, 0, 3, 0, 1, 1, 1,\n",
       "       3, 3, 1, 1, 3, 0, 1, 3, 0, 0, 3, 0, 3, 1, 1, 3, 3, 1, 1, 3, 3, 4,\n",
       "       1, 3, 3, 3, 3, 0, 3, 0, 3, 0, 3, 3, 3, 0, 0, 2, 4, 2, 4, 2, 2, 4,\n",
       "       2, 2, 1, 1, 1, 2, 2, 3, 1, 2, 2, 2, 1, 2, 2, 1, 4, 2, 2, 2, 2, 4,\n",
       "       4, 4, 2, 2, 2, 2, 2, 1, 4, 2, 4, 2, 1, 4, 2, 2, 4, 2, 2, 2, 2, 4,\n",
       "       4, 2, 4, 2, 2, 2, 2, 2, 2, 4, 4, 2, 2, 2, 2, 2, 2, 2, 2, 4, 4, 2,\n",
       "       4, 4, 4, 4, 1, 2, 4, 4, 4, 1, 2, 4, 1, 1, 2, 4, 4, 4, 2, 2, 2, 4,\n",
       "       4, 1, 2, 1, 4, 4, 2, 4, 4, 4, 4, 2, 4, 4, 1, 4, 2, 2, 4, 1, 1, 1,\n",
       "       1, 4], dtype=int64)"
      ]
     },
     "execution_count": 32,
     "metadata": {},
     "output_type": "execute_result"
    }
   ],
   "source": [
    "y_hc"
   ]
  },
  {
   "cell_type": "code",
   "execution_count": 34,
   "metadata": {},
   "outputs": [
    {
     "data": {
      "image/png": "[encoded data removed]",
      "text/plain": [
       "<Figure size 432x288 with 1 Axes>"
      ]
     },
     "metadata": {
      "needs_background": "light"
     },
     "output_type": "display_data"
    }
   ],
   "source": [
    "plt.scatter(x[y_hc == 0, 0], x[y_hc == 0,1], s = 100, c = 'red', label = 'cluster 1')\n",
    "plt.scatter(x[y_hc == 1, 0], x[y_hc == 1,1], s = 100, c = 'blue', label = 'cluster 2')\n",
    "plt.scatter(x[y_hc == 2, 0], x[y_hc == 2,1], s = 100, c = 'green', label = 'cluster 3')\n",
    "\n",
    "\n",
    "plt.title('cluster wine')\n",
    "plt.xlabel('wine quality')\n",
    "plt.ylabel('alcohol')\n",
    "plt.legend()\n",
    "plt.show()"
   ]
  },
  {
   "cell_type": "code",
   "execution_count": null,
   "metadata": {},
   "outputs": [],
   "source": []
  }
 ],
 "metadata": {
  "kernelspec": {
   "display_name": "Python 3",
   "language": "python",
   "name": "python3"
  },
  "language_info": {
   "codemirror_mode": {
    "name": "ipython",
    "version": 3
   },
   "file_extension": ".py",
   "mimetype": "text/x-python",
   "name": "python",
   "nbconvert_exporter": "python",
   "pygments_lexer": "ipython3",
   "version": "3.7.6"
  }
 },
 "nbformat": 4,
 "nbformat_minor": 4
}
