{
 "cells": [
  {
   "cell_type": "markdown",
   "metadata": {
    "id": "tITYjrdvyZVI"
   },
   "source": [
    "#Categorising the IMDB rating into 3 classes Hit,Avg,Flop\n",
    "Here I have dataset named movie_metadata in which the target variable is IMDB score and other variables that decide the IMDB score. Instead of just IMDB score,With the help of other parameters I want to predict whether a movie is Hit,Avg or Flop.\n",
    "\n",
    "\n",
    "\n",
    "|imdb_score | Classify |\n",
    "| --- | ---|\n",
    "|1-3 | Flop Movie|\n",
    "|3-6 | Average Movie|\n",
    "|6-10 | Hit Movie|\n"
   ]
  },
  {
   "cell_type": "markdown",
   "metadata": {
    "id": "yMTKK9GM6cQ9"
   },
   "source": [
    "# 1 INTRODUCTION\n"
   ]
  },
  {
   "cell_type": "markdown",
   "metadata": {
    "id": "GQ9myKeWyBdT"
   },
   "source": [
    "## 1.1 Background\n",
    "\n",
    "\n",
    "Success of a movie depends upon alot of factors like good directors or excellent actors or story plotline.However, famous directors and actors can always bring an expected box-office income but cannot guarantee a highly rated imdb score.\n",
    "\n"
   ]
  },
  {
   "cell_type": "markdown",
   "metadata": {
    "id": "UveLsKUXyBqK"
   },
   "source": [
    "## 1.2 Describing Data\n",
    "\n",
    "The dataset contains 28 variables for 5043 movies, spanning across 100 years in 66 countries. There are 2399 unique director names, and thousands of actors/actresses. “imdb_score” is the response variable while the other 27 variables are possible predictors."
   ]
  },
  {
   "cell_type": "markdown",
   "metadata": {
    "id": "zJ_UlIb8yBv3"
   },
   "source": [
    "|Variable Name |\tDescription|\n",
    "| --- | --- |\n",
    "|movie_title\t | Title of the Movie|\n",
    "|duration\t| Duration in minutes|\n",
    "|director_name\t| Name of the Director of the Movie|\n",
    "|director_facebook_likes |\tNumber of likes of the Director on his Facebook Page|\n",
    "|actor_1_name |\tPrimary actor starring in the movie|\n",
    "|actor_1_facebook_likes |\tNumber of likes of the Actor_1 on his/her Facebook Page|\n",
    "|actor_2_name |\tOther actor starring in the movie|\n",
    "|actor_2_facebook_likes\t| Number of likes of the Actor_2 on his/her Facebook Page|\n",
    "|actor_3_name |\tOther actor starring in the movie|\n",
    "|actor_3_facebook_likes |\tNumber of likes of the Actor_3 on his/her Facebook Page|\n",
    "|num_user_for_reviews |\tNumber of users who gave a review|\n",
    "|num_critic_for_reviews |\tNumber of critical reviews on imdb|\n",
    "|num_voted_users | \tNumber of people who voted for the movie|\n",
    "|cast_total_facebook_likes |\tTotal number of facebook likes of the entire cast of the movie|\n",
    "|movie_facebook_likes |\tNumber of Facebook likes in the movie page|\n",
    "|plot_keywords |\tKeywords describing the movie plot|\n",
    "|facenumber_in_poster |\tNumber of the actor who featured in the movie poster|\n",
    "|color |\tFilm colorization. ‘Black and White’ or ‘Color’|\n",
    "|genres |\tFilm categorization like ‘Animation’, ‘Comedy’, ‘Romance’, ‘Horror’, ‘Sci-Fi’, ‘Action’, ‘Family’|\n",
    "|title_year |\tThe year in which the movie is released (1916:2016)|\n",
    "|language |\tEnglish, Arabic, Chinese, French, German, Danish, Italian, Japanese etc|\n",
    "|country |\tCountry where the movie is produced|\n",
    "|content_rating |\tContent rating of the movie|\n",
    "|aspect_ratio |\tAspect ratio the movie was made in|\n",
    "|movie_imdb_link |\tIMDB link of the movie|\n",
    "|gross |\tGross earnings of the movie in Dollars|\n",
    "|budget |\tBudget of the movie in Dollars|\n",
    "|imdb_score |\tIMDB Score of the movie on IMDB|"
   ]
  },
  {
   "cell_type": "markdown",
   "metadata": {
    "id": "zqUdPqTTqF5C"
   },
   "source": [
    "Lets see which features influence the target varible(IMDB Score)"
   ]
  },
  {
   "cell_type": "markdown",
   "metadata": {
    "id": "_asnnbcm7Eff"
   },
   "source": [
    "# 2 DATA EXPLORATION"
   ]
  },
  {
   "cell_type": "markdown",
   "metadata": {
    "id": "wswrtl4jPN6Y"
   },
   "source": [
    "## 2.1 Importing necessary Libraries\n"
   ]
  },
  {
   "cell_type": "code",
   "execution_count": 1,
   "metadata": {
    "id": "0Pu9vNn_ayuz",
    "outputId": "ffc479bf-f88d-42dc-9a4a-bf72c826cc28"
   },
   "outputs": [],
   "source": [
    "#Importing necessary Libraries\n",
    "import numpy as np\n",
    "import pandas as pd\n",
    "import matplotlib.pyplot as plt \n",
    "import seaborn as sns"
   ]
  },
  {
   "cell_type": "code",
   "execution_count": 2,
   "metadata": {
    "id": "Is7Ix5HJa9p_",
    "outputId": "9b5fab29-808c-4539-8594-f10479cf8516"
   },
   "outputs": [
    {
     "data": {
      "text/html": [
       "<div>\n",
       "<style scoped>\n",
       "    .dataframe tbody tr th:only-of-type {\n",
       "        vertical-align: middle;\n",
       "    }\n",
       "\n",
       "    .dataframe tbody tr th {\n",
       "        vertical-align: top;\n",
       "    }\n",
       "\n",
       "    .dataframe thead th {\n",
       "        text-align: right;\n",
       "    }\n",
       "</style>\n",
       "<table border=\"1\" class=\"dataframe\">\n",
       "  <thead>\n",
       "    <tr style=\"text-align: right;\">\n",
       "      <th></th>\n",
       "      <th>color</th>\n",
       "      <th>director_name</th>\n",
       "      <th>num_critic_for_reviews</th>\n",
       "      <th>duration</th>\n",
       "      <th>director_facebook_likes</th>\n",
       "      <th>actor_3_facebook_likes</th>\n",
       "      <th>actor_2_name</th>\n",
       "      <th>actor_1_facebook_likes</th>\n",
       "      <th>gross</th>\n",
       "      <th>genres</th>\n",
       "      <th>...</th>\n",
       "      <th>num_user_for_reviews</th>\n",
       "      <th>language</th>\n",
       "      <th>country</th>\n",
       "      <th>content_rating</th>\n",
       "      <th>budget</th>\n",
       "      <th>title_year</th>\n",
       "      <th>actor_2_facebook_likes</th>\n",
       "      <th>imdb_score</th>\n",
       "      <th>aspect_ratio</th>\n",
       "      <th>movie_facebook_likes</th>\n",
       "    </tr>\n",
       "  </thead>\n",
       "  <tbody>\n",
       "    <tr>\n",
       "      <th>0</th>\n",
       "      <td>Color</td>\n",
       "      <td>James Cameron</td>\n",
       "      <td>723.0</td>\n",
       "      <td>178.0</td>\n",
       "      <td>0.0</td>\n",
       "      <td>855.0</td>\n",
       "      <td>Joel David Moore</td>\n",
       "      <td>1000.0</td>\n",
       "      <td>760505847.0</td>\n",
       "      <td>Action|Adventure|Fantasy|Sci-Fi</td>\n",
       "      <td>...</td>\n",
       "      <td>3054.0</td>\n",
       "      <td>English</td>\n",
       "      <td>USA</td>\n",
       "      <td>PG-13</td>\n",
       "      <td>237000000.0</td>\n",
       "      <td>2009.0</td>\n",
       "      <td>936.0</td>\n",
       "      <td>7.9</td>\n",
       "      <td>1.78</td>\n",
       "      <td>33000</td>\n",
       "    </tr>\n",
       "    <tr>\n",
       "      <th>1</th>\n",
       "      <td>Color</td>\n",
       "      <td>Gore Verbinski</td>\n",
       "      <td>302.0</td>\n",
       "      <td>169.0</td>\n",
       "      <td>563.0</td>\n",
       "      <td>1000.0</td>\n",
       "      <td>Orlando Bloom</td>\n",
       "      <td>40000.0</td>\n",
       "      <td>309404152.0</td>\n",
       "      <td>Action|Adventure|Fantasy</td>\n",
       "      <td>...</td>\n",
       "      <td>1238.0</td>\n",
       "      <td>English</td>\n",
       "      <td>USA</td>\n",
       "      <td>PG-13</td>\n",
       "      <td>300000000.0</td>\n",
       "      <td>2007.0</td>\n",
       "      <td>5000.0</td>\n",
       "      <td>7.1</td>\n",
       "      <td>2.35</td>\n",
       "      <td>0</td>\n",
       "    </tr>\n",
       "    <tr>\n",
       "      <th>2</th>\n",
       "      <td>Color</td>\n",
       "      <td>Sam Mendes</td>\n",
       "      <td>602.0</td>\n",
       "      <td>148.0</td>\n",
       "      <td>0.0</td>\n",
       "      <td>161.0</td>\n",
       "      <td>Rory Kinnear</td>\n",
       "      <td>11000.0</td>\n",
       "      <td>200074175.0</td>\n",
       "      <td>Action|Adventure|Thriller</td>\n",
       "      <td>...</td>\n",
       "      <td>994.0</td>\n",
       "      <td>English</td>\n",
       "      <td>UK</td>\n",
       "      <td>PG-13</td>\n",
       "      <td>245000000.0</td>\n",
       "      <td>2015.0</td>\n",
       "      <td>393.0</td>\n",
       "      <td>6.8</td>\n",
       "      <td>2.35</td>\n",
       "      <td>85000</td>\n",
       "    </tr>\n",
       "    <tr>\n",
       "      <th>3</th>\n",
       "      <td>Color</td>\n",
       "      <td>Christopher Nolan</td>\n",
       "      <td>813.0</td>\n",
       "      <td>164.0</td>\n",
       "      <td>22000.0</td>\n",
       "      <td>23000.0</td>\n",
       "      <td>Christian Bale</td>\n",
       "      <td>27000.0</td>\n",
       "      <td>448130642.0</td>\n",
       "      <td>Action|Thriller</td>\n",
       "      <td>...</td>\n",
       "      <td>2701.0</td>\n",
       "      <td>English</td>\n",
       "      <td>USA</td>\n",
       "      <td>PG-13</td>\n",
       "      <td>250000000.0</td>\n",
       "      <td>2012.0</td>\n",
       "      <td>23000.0</td>\n",
       "      <td>8.5</td>\n",
       "      <td>2.35</td>\n",
       "      <td>164000</td>\n",
       "    </tr>\n",
       "    <tr>\n",
       "      <th>4</th>\n",
       "      <td>NaN</td>\n",
       "      <td>Doug Walker</td>\n",
       "      <td>NaN</td>\n",
       "      <td>NaN</td>\n",
       "      <td>131.0</td>\n",
       "      <td>NaN</td>\n",
       "      <td>Rob Walker</td>\n",
       "      <td>131.0</td>\n",
       "      <td>NaN</td>\n",
       "      <td>Documentary</td>\n",
       "      <td>...</td>\n",
       "      <td>NaN</td>\n",
       "      <td>NaN</td>\n",
       "      <td>NaN</td>\n",
       "      <td>NaN</td>\n",
       "      <td>NaN</td>\n",
       "      <td>NaN</td>\n",
       "      <td>12.0</td>\n",
       "      <td>7.1</td>\n",
       "      <td>NaN</td>\n",
       "      <td>0</td>\n",
       "    </tr>\n",
       "  </tbody>\n",
       "</table>\n",
       "<p>5 rows × 28 columns</p>\n",
       "</div>"
      ],
      "text/plain": [
       "   color      director_name  num_critic_for_reviews  duration  \\\n",
       "0  Color      James Cameron                   723.0     178.0   \n",
       "1  Color     Gore Verbinski                   302.0     169.0   \n",
       "2  Color         Sam Mendes                   602.0     148.0   \n",
       "3  Color  Christopher Nolan                   813.0     164.0   \n",
       "4    NaN        Doug Walker                     NaN       NaN   \n",
       "\n",
       "   director_facebook_likes  actor_3_facebook_likes      actor_2_name  \\\n",
       "0                      0.0                   855.0  Joel David Moore   \n",
       "1                    563.0                  1000.0     Orlando Bloom   \n",
       "2                      0.0                   161.0      Rory Kinnear   \n",
       "3                  22000.0                 23000.0    Christian Bale   \n",
       "4                    131.0                     NaN        Rob Walker   \n",
       "\n",
       "   actor_1_facebook_likes        gross                           genres  ...  \\\n",
       "0                  1000.0  760505847.0  Action|Adventure|Fantasy|Sci-Fi  ...   \n",
       "1                 40000.0  309404152.0         Action|Adventure|Fantasy  ...   \n",
       "2                 11000.0  200074175.0        Action|Adventure|Thriller  ...   \n",
       "3                 27000.0  448130642.0                  Action|Thriller  ...   \n",
       "4                   131.0          NaN                      Documentary  ...   \n",
       "\n",
       "  num_user_for_reviews language  country  content_rating       budget  \\\n",
       "0               3054.0  English      USA           PG-13  237000000.0   \n",
       "1               1238.0  English      USA           PG-13  300000000.0   \n",
       "2                994.0  English       UK           PG-13  245000000.0   \n",
       "3               2701.0  English      USA           PG-13  250000000.0   \n",
       "4                  NaN      NaN      NaN             NaN          NaN   \n",
       "\n",
       "   title_year actor_2_facebook_likes imdb_score  aspect_ratio  \\\n",
       "0      2009.0                  936.0        7.9          1.78   \n",
       "1      2007.0                 5000.0        7.1          2.35   \n",
       "2      2015.0                  393.0        6.8          2.35   \n",
       "3      2012.0                23000.0        8.5          2.35   \n",
       "4         NaN                   12.0        7.1           NaN   \n",
       "\n",
       "  movie_facebook_likes  \n",
       "0                33000  \n",
       "1                    0  \n",
       "2                85000  \n",
       "3               164000  \n",
       "4                    0  \n",
       "\n",
       "[5 rows x 28 columns]"
      ]
     },
     "execution_count": 2,
     "metadata": {},
     "output_type": "execute_result"
    }
   ],
   "source": [
    "#Reading the dataset\n",
    "data=pd.read_csv('movie_metadata.csv')\n",
    "data.head()"
   ]
  },
  {
   "cell_type": "markdown",
   "metadata": {
    "id": "uront9NnLvii"
   },
   "source": [
    "## 2.2 Categorizing the target varible \n",
    "\n",
    "Here we are categorizing the target variable in such a way that IMDB score between 1 and 3 is FLOP , between 3 and 6 is AVG, between 6 and 10 is HIT.\n",
    "\n",
    "And we are using binning in pandas to acheive this.\n"
   ]
  },
  {
   "cell_type": "code",
   "execution_count": 3,
   "metadata": {
    "id": "Cu6eK6NKbOQG"
   },
   "outputs": [],
   "source": [
    "#Categorising the target varible \n",
    "bins = [ 1, 3, 6, 10]\n",
    "labels = ['FLOP', 'AVG', 'HIT']\n",
    "data['imdb_binned'] = pd.cut(data['imdb_score'], bins=bins, labels=labels)"
   ]
  },
  {
   "cell_type": "markdown",
   "metadata": {
    "id": "RZ8j4QKkgdrJ"
   },
   "source": [
    " Barplot of imbd_binned column"
   ]
  },
  {
   "cell_type": "code",
   "execution_count": 4,
   "metadata": {
    "id": "00kv3hDogEik",
    "outputId": "2d5721e2-7049-41a0-fc10-3452f1f8a95d"
   },
   "outputs": [
    {
     "data": {
      "text/plain": [
       "Text(0.5, 1.0, 'Categorization of Movies')"
      ]
     },
     "execution_count": 4,
     "metadata": {},
     "output_type": "execute_result"
    },
    {
     "data": {
      "image/png": "[encoded data removed]",
      "text/plain": [
       "<Figure size 432x288 with 1 Axes>"
      ]
     },
     "metadata": {
      "needs_background": "light"
     },
     "output_type": "display_data"
    }
   ],
   "source": [
    "data.groupby(['imdb_binned']).size().plot(kind=\"bar\",fontsize=14)\n",
    "plt.xlabel('Categories')\n",
    "plt.ylabel('Number of Movies')\n",
    "plt.title('Categorization of Movies')"
   ]
  },
  {
   "cell_type": "markdown",
   "metadata": {
    "id": "4Pu6SF-CLDz5"
   },
   "source": [
    "We can see a new column named imdb_binned correctly categorising the imdb score\n"
   ]
  },
  {
   "cell_type": "code",
   "execution_count": 5,
   "metadata": {
    "id": "SbHOvcgBb-1d",
    "outputId": "bf032e7e-37b1-47d3-9e84-426810f445c8"
   },
   "outputs": [
    {
     "data": {
      "text/html": [
       "<div>\n",
       "<style scoped>\n",
       "    .dataframe tbody tr th:only-of-type {\n",
       "        vertical-align: middle;\n",
       "    }\n",
       "\n",
       "    .dataframe tbody tr th {\n",
       "        vertical-align: top;\n",
       "    }\n",
       "\n",
       "    .dataframe thead th {\n",
       "        text-align: right;\n",
       "    }\n",
       "</style>\n",
       "<table border=\"1\" class=\"dataframe\">\n",
       "  <thead>\n",
       "    <tr style=\"text-align: right;\">\n",
       "      <th></th>\n",
       "      <th>color</th>\n",
       "      <th>director_name</th>\n",
       "      <th>num_critic_for_reviews</th>\n",
       "      <th>duration</th>\n",
       "      <th>director_facebook_likes</th>\n",
       "      <th>actor_3_facebook_likes</th>\n",
       "      <th>actor_2_name</th>\n",
       "      <th>actor_1_facebook_likes</th>\n",
       "      <th>gross</th>\n",
       "      <th>genres</th>\n",
       "      <th>...</th>\n",
       "      <th>language</th>\n",
       "      <th>country</th>\n",
       "      <th>content_rating</th>\n",
       "      <th>budget</th>\n",
       "      <th>title_year</th>\n",
       "      <th>actor_2_facebook_likes</th>\n",
       "      <th>imdb_score</th>\n",
       "      <th>aspect_ratio</th>\n",
       "      <th>movie_facebook_likes</th>\n",
       "      <th>imdb_binned</th>\n",
       "    </tr>\n",
       "  </thead>\n",
       "  <tbody>\n",
       "    <tr>\n",
       "      <th>0</th>\n",
       "      <td>Color</td>\n",
       "      <td>James Cameron</td>\n",
       "      <td>723.0</td>\n",
       "      <td>178.0</td>\n",
       "      <td>0.0</td>\n",
       "      <td>855.0</td>\n",
       "      <td>Joel David Moore</td>\n",
       "      <td>1000.0</td>\n",
       "      <td>760505847.0</td>\n",
       "      <td>Action|Adventure|Fantasy|Sci-Fi</td>\n",
       "      <td>...</td>\n",
       "      <td>English</td>\n",
       "      <td>USA</td>\n",
       "      <td>PG-13</td>\n",
       "      <td>237000000.0</td>\n",
       "      <td>2009.0</td>\n",
       "      <td>936.0</td>\n",
       "      <td>7.9</td>\n",
       "      <td>1.78</td>\n",
       "      <td>33000</td>\n",
       "      <td>HIT</td>\n",
       "    </tr>\n",
       "    <tr>\n",
       "      <th>1</th>\n",
       "      <td>Color</td>\n",
       "      <td>Gore Verbinski</td>\n",
       "      <td>302.0</td>\n",
       "      <td>169.0</td>\n",
       "      <td>563.0</td>\n",
       "      <td>1000.0</td>\n",
       "      <td>Orlando Bloom</td>\n",
       "      <td>40000.0</td>\n",
       "      <td>309404152.0</td>\n",
       "      <td>Action|Adventure|Fantasy</td>\n",
       "      <td>...</td>\n",
       "      <td>English</td>\n",
       "      <td>USA</td>\n",
       "      <td>PG-13</td>\n",
       "      <td>300000000.0</td>\n",
       "      <td>2007.0</td>\n",
       "      <td>5000.0</td>\n",
       "      <td>7.1</td>\n",
       "      <td>2.35</td>\n",
       "      <td>0</td>\n",
       "      <td>HIT</td>\n",
       "    </tr>\n",
       "    <tr>\n",
       "      <th>2</th>\n",
       "      <td>Color</td>\n",
       "      <td>Sam Mendes</td>\n",
       "      <td>602.0</td>\n",
       "      <td>148.0</td>\n",
       "      <td>0.0</td>\n",
       "      <td>161.0</td>\n",
       "      <td>Rory Kinnear</td>\n",
       "      <td>11000.0</td>\n",
       "      <td>200074175.0</td>\n",
       "      <td>Action|Adventure|Thriller</td>\n",
       "      <td>...</td>\n",
       "      <td>English</td>\n",
       "      <td>UK</td>\n",
       "      <td>PG-13</td>\n",
       "      <td>245000000.0</td>\n",
       "      <td>2015.0</td>\n",
       "      <td>393.0</td>\n",
       "      <td>6.8</td>\n",
       "      <td>2.35</td>\n",
       "      <td>85000</td>\n",
       "      <td>HIT</td>\n",
       "    </tr>\n",
       "    <tr>\n",
       "      <th>3</th>\n",
       "      <td>Color</td>\n",
       "      <td>Christopher Nolan</td>\n",
       "      <td>813.0</td>\n",
       "      <td>164.0</td>\n",
       "      <td>22000.0</td>\n",
       "      <td>23000.0</td>\n",
       "      <td>Christian Bale</td>\n",
       "      <td>27000.0</td>\n",
       "      <td>448130642.0</td>\n",
       "      <td>Action|Thriller</td>\n",
       "      <td>...</td>\n",
       "      <td>English</td>\n",
       "      <td>USA</td>\n",
       "      <td>PG-13</td>\n",
       "      <td>250000000.0</td>\n",
       "      <td>2012.0</td>\n",
       "      <td>23000.0</td>\n",
       "      <td>8.5</td>\n",
       "      <td>2.35</td>\n",
       "      <td>164000</td>\n",
       "      <td>HIT</td>\n",
       "    </tr>\n",
       "    <tr>\n",
       "      <th>4</th>\n",
       "      <td>NaN</td>\n",
       "      <td>Doug Walker</td>\n",
       "      <td>NaN</td>\n",
       "      <td>NaN</td>\n",
       "      <td>131.0</td>\n",
       "      <td>NaN</td>\n",
       "      <td>Rob Walker</td>\n",
       "      <td>131.0</td>\n",
       "      <td>NaN</td>\n",
       "      <td>Documentary</td>\n",
       "      <td>...</td>\n",
       "      <td>NaN</td>\n",
       "      <td>NaN</td>\n",
       "      <td>NaN</td>\n",
       "      <td>NaN</td>\n",
       "      <td>NaN</td>\n",
       "      <td>12.0</td>\n",
       "      <td>7.1</td>\n",
       "      <td>NaN</td>\n",
       "      <td>0</td>\n",
       "      <td>HIT</td>\n",
       "    </tr>\n",
       "  </tbody>\n",
       "</table>\n",
       "<p>5 rows × 29 columns</p>\n",
       "</div>"
      ],
      "text/plain": [
       "   color      director_name  num_critic_for_reviews  duration  \\\n",
       "0  Color      James Cameron                   723.0     178.0   \n",
       "1  Color     Gore Verbinski                   302.0     169.0   \n",
       "2  Color         Sam Mendes                   602.0     148.0   \n",
       "3  Color  Christopher Nolan                   813.0     164.0   \n",
       "4    NaN        Doug Walker                     NaN       NaN   \n",
       "\n",
       "   director_facebook_likes  actor_3_facebook_likes      actor_2_name  \\\n",
       "0                      0.0                   855.0  Joel David Moore   \n",
       "1                    563.0                  1000.0     Orlando Bloom   \n",
       "2                      0.0                   161.0      Rory Kinnear   \n",
       "3                  22000.0                 23000.0    Christian Bale   \n",
       "4                    131.0                     NaN        Rob Walker   \n",
       "\n",
       "   actor_1_facebook_likes        gross                           genres  ...  \\\n",
       "0                  1000.0  760505847.0  Action|Adventure|Fantasy|Sci-Fi  ...   \n",
       "1                 40000.0  309404152.0         Action|Adventure|Fantasy  ...   \n",
       "2                 11000.0  200074175.0        Action|Adventure|Thriller  ...   \n",
       "3                 27000.0  448130642.0                  Action|Thriller  ...   \n",
       "4                   131.0          NaN                      Documentary  ...   \n",
       "\n",
       "  language country  content_rating       budget title_year  \\\n",
       "0  English     USA           PG-13  237000000.0     2009.0   \n",
       "1  English     USA           PG-13  300000000.0     2007.0   \n",
       "2  English      UK           PG-13  245000000.0     2015.0   \n",
       "3  English     USA           PG-13  250000000.0     2012.0   \n",
       "4      NaN     NaN             NaN          NaN        NaN   \n",
       "\n",
       "   actor_2_facebook_likes imdb_score aspect_ratio  movie_facebook_likes  \\\n",
       "0                   936.0        7.9         1.78                 33000   \n",
       "1                  5000.0        7.1         2.35                     0   \n",
       "2                   393.0        6.8         2.35                 85000   \n",
       "3                 23000.0        8.5         2.35                164000   \n",
       "4                    12.0        7.1          NaN                     0   \n",
       "\n",
       "  imdb_binned  \n",
       "0         HIT  \n",
       "1         HIT  \n",
       "2         HIT  \n",
       "3         HIT  \n",
       "4         HIT  \n",
       "\n",
       "[5 rows x 29 columns]"
      ]
     },
     "execution_count": 5,
     "metadata": {},
     "output_type": "execute_result"
    }
   ],
   "source": [
    "#Checking the new column\n",
    "data.head(5)"
   ]
  },
  {
   "cell_type": "markdown",
   "metadata": {
    "id": "_DuDeTQ4UyPF"
   },
   "source": [
    "Our dataset contains 5043 samples(rows) and 28 variables(columns)"
   ]
  },
  {
   "cell_type": "code",
   "execution_count": 6,
   "metadata": {
    "id": "AYupTKGYcHAU",
    "outputId": "b95627fc-2b0b-4b56-ad72-5e62838752f4"
   },
   "outputs": [
    {
     "data": {
      "text/plain": [
       "(5043, 29)"
      ]
     },
     "execution_count": 6,
     "metadata": {},
     "output_type": "execute_result"
    }
   ],
   "source": [
    "#Shape of the dataset\n",
    "data.shape"
   ]
  },
  {
   "cell_type": "markdown",
   "metadata": {},
   "source": [
    "## 2.3 Handling the Missing values\n",
    "\n",
    "Every datset have some missing values, lets find out in which cloumns they are?"
   ]
  },
  {
   "cell_type": "code",
   "execution_count": 7,
   "metadata": {
    "id": "qV_9xy_ycXzB",
    "outputId": "1b9c8b4a-2959-440b-d048-18c9f60c4808"
   },
   "outputs": [
    {
     "data": {
      "text/plain": [
       "color                         19\n",
       "director_name                104\n",
       "num_critic_for_reviews        50\n",
       "duration                      15\n",
       "director_facebook_likes      104\n",
       "actor_3_facebook_likes        23\n",
       "actor_2_name                  13\n",
       "actor_1_facebook_likes         7\n",
       "gross                        884\n",
       "genres                         0\n",
       "actor_1_name                   7\n",
       "movie_title                    0\n",
       "num_voted_users                0\n",
       "cast_total_facebook_likes      0\n",
       "actor_3_name                  23\n",
       "facenumber_in_poster          13\n",
       "plot_keywords                153\n",
       "movie_imdb_link                0\n",
       "num_user_for_reviews          21\n",
       "language                      12\n",
       "country                        5\n",
       "content_rating               303\n",
       "budget                       492\n",
       "title_year                   108\n",
       "actor_2_facebook_likes        13\n",
       "imdb_score                     0\n",
       "aspect_ratio                 329\n",
       "movie_facebook_likes           0\n",
       "imdb_binned                    0\n",
       "dtype: int64"
      ]
     },
     "execution_count": 7,
     "metadata": {},
     "output_type": "execute_result"
    }
   ],
   "source": [
    "#Total null values present in each column\n",
    "data.isnull().sum()"
   ]
  },
  {
   "cell_type": "markdown",
   "metadata": {
    "id": "nIAtAwObWvwj"
   },
   "source": [
    "Dropping all the samples that having missing values\n"
   ]
  },
  {
   "cell_type": "code",
   "execution_count": 8,
   "metadata": {
    "id": "oYHzP76_cd_s"
   },
   "outputs": [],
   "source": [
    "#Droping the samples that have missing values\n",
    "data.dropna(inplace=True)"
   ]
  },
  {
   "cell_type": "markdown",
   "metadata": {
    "id": "UubAN0YoW-mK"
   },
   "source": [
    "Total samples remaining after dropping missing values\n"
   ]
  },
  {
   "cell_type": "code",
   "execution_count": 9,
   "metadata": {
    "id": "d2_jHPwgcg5W",
    "outputId": "c5343e56-bc36-4652-efc2-4f7ccb52e670"
   },
   "outputs": [
    {
     "data": {
      "text/plain": [
       "(3756, 29)"
      ]
     },
     "execution_count": 9,
     "metadata": {},
     "output_type": "execute_result"
    }
   ],
   "source": [
    "#Final shape of the data after Droping missing values\n",
    "data.shape"
   ]
  },
  {
   "cell_type": "code",
   "execution_count": 10,
   "metadata": {
    "id": "lw1VJ07JcifK",
    "outputId": "f2b1bdd7-2bff-467b-cb47-31ec6a57b33e"
   },
   "outputs": [
    {
     "data": {
      "text/plain": [
       "Index(['color', 'director_name', 'num_critic_for_reviews', 'duration',\n",
       "       'director_facebook_likes', 'actor_3_facebook_likes', 'actor_2_name',\n",
       "       'actor_1_facebook_likes', 'gross', 'genres', 'actor_1_name',\n",
       "       'movie_title', 'num_voted_users', 'cast_total_facebook_likes',\n",
       "       'actor_3_name', 'facenumber_in_poster', 'plot_keywords',\n",
       "       'movie_imdb_link', 'num_user_for_reviews', 'language', 'country',\n",
       "       'content_rating', 'budget', 'title_year', 'actor_2_facebook_likes',\n",
       "       'imdb_score', 'aspect_ratio', 'movie_facebook_likes', 'imdb_binned'],\n",
       "      dtype='object')"
      ]
     },
     "execution_count": 10,
     "metadata": {},
     "output_type": "execute_result"
    }
   ],
   "source": [
    "#List of variables in the datset\n",
    "data.columns"
   ]
  },
  {
   "cell_type": "code",
   "execution_count": 11,
   "metadata": {
    "id": "eL09qqAD-PfW",
    "outputId": "8bffa724-4bad-4e4e-99a2-3b2044a328d0"
   },
   "outputs": [
    {
     "data": {
      "text/plain": [
       "(3756, 29)"
      ]
     },
     "execution_count": 11,
     "metadata": {},
     "output_type": "execute_result"
    }
   ],
   "source": [
    "data.shape"
   ]
  },
  {
   "cell_type": "markdown",
   "metadata": {},
   "source": [
    "Lets find out how the string variables are behaving"
   ]
  },
  {
   "cell_type": "code",
   "execution_count": 12,
   "metadata": {
    "id": "mDhyXZ7PL2Z7",
    "outputId": "1addd9ad-49ca-448f-a0e6-f922eed82913"
   },
   "outputs": [
    {
     "data": {
      "text/html": [
       "<div>\n",
       "<style scoped>\n",
       "    .dataframe tbody tr th:only-of-type {\n",
       "        vertical-align: middle;\n",
       "    }\n",
       "\n",
       "    .dataframe tbody tr th {\n",
       "        vertical-align: top;\n",
       "    }\n",
       "\n",
       "    .dataframe thead th {\n",
       "        text-align: right;\n",
       "    }\n",
       "</style>\n",
       "<table border=\"1\" class=\"dataframe\">\n",
       "  <thead>\n",
       "    <tr style=\"text-align: right;\">\n",
       "      <th></th>\n",
       "      <th>color</th>\n",
       "      <th>director_name</th>\n",
       "      <th>actor_2_name</th>\n",
       "      <th>genres</th>\n",
       "      <th>actor_1_name</th>\n",
       "      <th>movie_title</th>\n",
       "      <th>actor_3_name</th>\n",
       "      <th>plot_keywords</th>\n",
       "      <th>movie_imdb_link</th>\n",
       "      <th>language</th>\n",
       "      <th>country</th>\n",
       "      <th>content_rating</th>\n",
       "    </tr>\n",
       "  </thead>\n",
       "  <tbody>\n",
       "    <tr>\n",
       "      <th>count</th>\n",
       "      <td>3756</td>\n",
       "      <td>3756</td>\n",
       "      <td>3756</td>\n",
       "      <td>3756</td>\n",
       "      <td>3756</td>\n",
       "      <td>3756</td>\n",
       "      <td>3756</td>\n",
       "      <td>3756</td>\n",
       "      <td>3756</td>\n",
       "      <td>3756</td>\n",
       "      <td>3756</td>\n",
       "      <td>3756</td>\n",
       "    </tr>\n",
       "    <tr>\n",
       "      <th>unique</th>\n",
       "      <td>2</td>\n",
       "      <td>1659</td>\n",
       "      <td>2188</td>\n",
       "      <td>745</td>\n",
       "      <td>1428</td>\n",
       "      <td>3655</td>\n",
       "      <td>2587</td>\n",
       "      <td>3656</td>\n",
       "      <td>3656</td>\n",
       "      <td>34</td>\n",
       "      <td>45</td>\n",
       "      <td>12</td>\n",
       "    </tr>\n",
       "    <tr>\n",
       "      <th>top</th>\n",
       "      <td>Color</td>\n",
       "      <td>Steven Spielberg</td>\n",
       "      <td>Morgan Freeman</td>\n",
       "      <td>Comedy|Drama|Romance</td>\n",
       "      <td>Robert De Niro</td>\n",
       "      <td>Victor Frankenstein</td>\n",
       "      <td>Steve Coogan</td>\n",
       "      <td>animal name in title|ape abducts a woman|goril...</td>\n",
       "      <td>http://www.imdb.com/title/tt0077651/?ref_=fn_t...</td>\n",
       "      <td>English</td>\n",
       "      <td>USA</td>\n",
       "      <td>R</td>\n",
       "    </tr>\n",
       "    <tr>\n",
       "      <th>freq</th>\n",
       "      <td>3632</td>\n",
       "      <td>25</td>\n",
       "      <td>20</td>\n",
       "      <td>147</td>\n",
       "      <td>42</td>\n",
       "      <td>3</td>\n",
       "      <td>8</td>\n",
       "      <td>3</td>\n",
       "      <td>3</td>\n",
       "      <td>3598</td>\n",
       "      <td>2987</td>\n",
       "      <td>1700</td>\n",
       "    </tr>\n",
       "  </tbody>\n",
       "</table>\n",
       "</div>"
      ],
      "text/plain": [
       "        color     director_name    actor_2_name                genres  \\\n",
       "count    3756              3756            3756                  3756   \n",
       "unique      2              1659            2188                   745   \n",
       "top     Color  Steven Spielberg  Morgan Freeman  Comedy|Drama|Romance   \n",
       "freq     3632                25              20                   147   \n",
       "\n",
       "          actor_1_name           movie_title  actor_3_name  \\\n",
       "count             3756                  3756          3756   \n",
       "unique            1428                  3655          2587   \n",
       "top     Robert De Niro  Victor Frankenstein   Steve Coogan   \n",
       "freq                42                     3             8   \n",
       "\n",
       "                                            plot_keywords  \\\n",
       "count                                                3756   \n",
       "unique                                               3656   \n",
       "top     animal name in title|ape abducts a woman|goril...   \n",
       "freq                                                    3   \n",
       "\n",
       "                                          movie_imdb_link language country  \\\n",
       "count                                                3756     3756    3756   \n",
       "unique                                               3656       34      45   \n",
       "top     http://www.imdb.com/title/tt0077651/?ref_=fn_t...  English     USA   \n",
       "freq                                                    3     3598    2987   \n",
       "\n",
       "       content_rating  \n",
       "count            3756  \n",
       "unique             12  \n",
       "top                 R  \n",
       "freq             1700  "
      ]
     },
     "execution_count": 12,
     "metadata": {},
     "output_type": "execute_result"
    }
   ],
   "source": [
    "#Describing the categorical data\n",
    "data.describe(include='object')"
   ]
  },
  {
   "cell_type": "markdown",
   "metadata": {
    "id": "9UqaybAdz_c_"
   },
   "source": [
    "'movie_title','movie_imdb_link' columns are almost unique,so they doesn't contribute in predicting target variable"
   ]
  },
  {
   "cell_type": "code",
   "execution_count": 13,
   "metadata": {
    "id": "adsg3H6Nz_3p"
   },
   "outputs": [],
   "source": [
    "#Dropping 2 columns\n",
    "data.drop(columns=['movie_title','movie_imdb_link'],inplace=True)"
   ]
  },
  {
   "cell_type": "markdown",
   "metadata": {
    "id": "hc7v-_TmXdsL"
   },
   "source": [
    "## 2.4 Label Encoding\n",
    "\n",
    "All the categorical columns and the columns with text data are being Label Encodeded in this step."
   ]
  },
  {
   "cell_type": "code",
   "execution_count": 14,
   "metadata": {
    "id": "Ymr1_JW0cih_"
   },
   "outputs": [],
   "source": [
    "#Label encoding the categorical columns\n",
    "from sklearn.preprocessing import LabelEncoder\n",
    "le = LabelEncoder()\n",
    "cat_list=['color', 'director_name', 'actor_2_name',\n",
    "        'genres', 'actor_1_name',\n",
    "        'actor_3_name',\n",
    "        'plot_keywords',\n",
    "        'language', 'country', 'content_rating',\n",
    "       'title_year', 'aspect_ratio']\n",
    "data[cat_list]=data[cat_list].apply(lambda x:le.fit_transform(x))"
   ]
  },
  {
   "cell_type": "code",
   "execution_count": 15,
   "metadata": {
    "id": "sYkknNcEcinJ",
    "outputId": "b3bae2a8-2400-4970-98b9-fc3ecbb64cf6"
   },
   "outputs": [
    {
     "data": {
      "text/html": [
       "<div>\n",
       "<style scoped>\n",
       "    .dataframe tbody tr th:only-of-type {\n",
       "        vertical-align: middle;\n",
       "    }\n",
       "\n",
       "    .dataframe tbody tr th {\n",
       "        vertical-align: top;\n",
       "    }\n",
       "\n",
       "    .dataframe thead th {\n",
       "        text-align: right;\n",
       "    }\n",
       "</style>\n",
       "<table border=\"1\" class=\"dataframe\">\n",
       "  <thead>\n",
       "    <tr style=\"text-align: right;\">\n",
       "      <th></th>\n",
       "      <th>color</th>\n",
       "      <th>director_name</th>\n",
       "      <th>num_critic_for_reviews</th>\n",
       "      <th>duration</th>\n",
       "      <th>director_facebook_likes</th>\n",
       "      <th>actor_3_facebook_likes</th>\n",
       "      <th>actor_2_name</th>\n",
       "      <th>actor_1_facebook_likes</th>\n",
       "      <th>gross</th>\n",
       "      <th>genres</th>\n",
       "      <th>...</th>\n",
       "      <th>language</th>\n",
       "      <th>country</th>\n",
       "      <th>content_rating</th>\n",
       "      <th>budget</th>\n",
       "      <th>title_year</th>\n",
       "      <th>actor_2_facebook_likes</th>\n",
       "      <th>imdb_score</th>\n",
       "      <th>aspect_ratio</th>\n",
       "      <th>movie_facebook_likes</th>\n",
       "      <th>imdb_binned</th>\n",
       "    </tr>\n",
       "  </thead>\n",
       "  <tbody>\n",
       "    <tr>\n",
       "      <th>0</th>\n",
       "      <td>1</td>\n",
       "      <td>620</td>\n",
       "      <td>723.0</td>\n",
       "      <td>178.0</td>\n",
       "      <td>0.0</td>\n",
       "      <td>855.0</td>\n",
       "      <td>1002</td>\n",
       "      <td>1000.0</td>\n",
       "      <td>760505847.0</td>\n",
       "      <td>91</td>\n",
       "      <td>...</td>\n",
       "      <td>9</td>\n",
       "      <td>43</td>\n",
       "      <td>7</td>\n",
       "      <td>237000000.0</td>\n",
       "      <td>66</td>\n",
       "      <td>936.0</td>\n",
       "      <td>7.9</td>\n",
       "      <td>7</td>\n",
       "      <td>33000</td>\n",
       "      <td>HIT</td>\n",
       "    </tr>\n",
       "    <tr>\n",
       "      <th>1</th>\n",
       "      <td>1</td>\n",
       "      <td>538</td>\n",
       "      <td>302.0</td>\n",
       "      <td>169.0</td>\n",
       "      <td>563.0</td>\n",
       "      <td>1000.0</td>\n",
       "      <td>1592</td>\n",
       "      <td>40000.0</td>\n",
       "      <td>309404152.0</td>\n",
       "      <td>85</td>\n",
       "      <td>...</td>\n",
       "      <td>9</td>\n",
       "      <td>43</td>\n",
       "      <td>7</td>\n",
       "      <td>300000000.0</td>\n",
       "      <td>64</td>\n",
       "      <td>5000.0</td>\n",
       "      <td>7.1</td>\n",
       "      <td>12</td>\n",
       "      <td>0</td>\n",
       "      <td>HIT</td>\n",
       "    </tr>\n",
       "    <tr>\n",
       "      <th>2</th>\n",
       "      <td>1</td>\n",
       "      <td>1395</td>\n",
       "      <td>602.0</td>\n",
       "      <td>148.0</td>\n",
       "      <td>0.0</td>\n",
       "      <td>161.0</td>\n",
       "      <td>1795</td>\n",
       "      <td>11000.0</td>\n",
       "      <td>200074175.0</td>\n",
       "      <td>107</td>\n",
       "      <td>...</td>\n",
       "      <td>9</td>\n",
       "      <td>42</td>\n",
       "      <td>7</td>\n",
       "      <td>245000000.0</td>\n",
       "      <td>72</td>\n",
       "      <td>393.0</td>\n",
       "      <td>6.8</td>\n",
       "      <td>12</td>\n",
       "      <td>85000</td>\n",
       "      <td>HIT</td>\n",
       "    </tr>\n",
       "    <tr>\n",
       "      <th>3</th>\n",
       "      <td>1</td>\n",
       "      <td>251</td>\n",
       "      <td>813.0</td>\n",
       "      <td>164.0</td>\n",
       "      <td>22000.0</td>\n",
       "      <td>23000.0</td>\n",
       "      <td>381</td>\n",
       "      <td>27000.0</td>\n",
       "      <td>448130642.0</td>\n",
       "      <td>243</td>\n",
       "      <td>...</td>\n",
       "      <td>9</td>\n",
       "      <td>43</td>\n",
       "      <td>7</td>\n",
       "      <td>250000000.0</td>\n",
       "      <td>69</td>\n",
       "      <td>23000.0</td>\n",
       "      <td>8.5</td>\n",
       "      <td>12</td>\n",
       "      <td>164000</td>\n",
       "      <td>HIT</td>\n",
       "    </tr>\n",
       "    <tr>\n",
       "      <th>5</th>\n",
       "      <td>1</td>\n",
       "      <td>62</td>\n",
       "      <td>462.0</td>\n",
       "      <td>132.0</td>\n",
       "      <td>475.0</td>\n",
       "      <td>530.0</td>\n",
       "      <td>1837</td>\n",
       "      <td>640.0</td>\n",
       "      <td>73058679.0</td>\n",
       "      <td>105</td>\n",
       "      <td>...</td>\n",
       "      <td>9</td>\n",
       "      <td>43</td>\n",
       "      <td>7</td>\n",
       "      <td>263700000.0</td>\n",
       "      <td>69</td>\n",
       "      <td>632.0</td>\n",
       "      <td>6.6</td>\n",
       "      <td>12</td>\n",
       "      <td>24000</td>\n",
       "      <td>HIT</td>\n",
       "    </tr>\n",
       "  </tbody>\n",
       "</table>\n",
       "<p>5 rows × 27 columns</p>\n",
       "</div>"
      ],
      "text/plain": [
       "   color  director_name  num_critic_for_reviews  duration  \\\n",
       "0      1            620                   723.0     178.0   \n",
       "1      1            538                   302.0     169.0   \n",
       "2      1           1395                   602.0     148.0   \n",
       "3      1            251                   813.0     164.0   \n",
       "5      1             62                   462.0     132.0   \n",
       "\n",
       "   director_facebook_likes  actor_3_facebook_likes  actor_2_name  \\\n",
       "0                      0.0                   855.0          1002   \n",
       "1                    563.0                  1000.0          1592   \n",
       "2                      0.0                   161.0          1795   \n",
       "3                  22000.0                 23000.0           381   \n",
       "5                    475.0                   530.0          1837   \n",
       "\n",
       "   actor_1_facebook_likes        gross  genres  ...  language  country  \\\n",
       "0                  1000.0  760505847.0      91  ...         9       43   \n",
       "1                 40000.0  309404152.0      85  ...         9       43   \n",
       "2                 11000.0  200074175.0     107  ...         9       42   \n",
       "3                 27000.0  448130642.0     243  ...         9       43   \n",
       "5                   640.0   73058679.0     105  ...         9       43   \n",
       "\n",
       "   content_rating       budget  title_year  actor_2_facebook_likes  \\\n",
       "0               7  237000000.0          66                   936.0   \n",
       "1               7  300000000.0          64                  5000.0   \n",
       "2               7  245000000.0          72                   393.0   \n",
       "3               7  250000000.0          69                 23000.0   \n",
       "5               7  263700000.0          69                   632.0   \n",
       "\n",
       "   imdb_score  aspect_ratio  movie_facebook_likes  imdb_binned  \n",
       "0         7.9             7                 33000          HIT  \n",
       "1         7.1            12                     0          HIT  \n",
       "2         6.8            12                 85000          HIT  \n",
       "3         8.5            12                164000          HIT  \n",
       "5         6.6            12                 24000          HIT  \n",
       "\n",
       "[5 rows x 27 columns]"
      ]
     },
     "execution_count": 15,
     "metadata": {},
     "output_type": "execute_result"
    }
   ],
   "source": [
    "#A sample of data after label encoding\n",
    "data.head()"
   ]
  },
  {
   "cell_type": "markdown",
   "metadata": {
    "id": "MXFyaJpRX_t6"
   },
   "source": [
    "## 2.5 Correlation\n",
    "\n",
    "To find out whether there is any relation between variables, in other terms multicollineariaty.\n",
    "\n"
   ]
  },
  {
   "cell_type": "code",
   "execution_count": 16,
   "metadata": {
    "id": "ipvQqmWuci_P",
    "outputId": "f3abb1b3-890a-48a1-c2cd-31638f3ab65d"
   },
   "outputs": [
    {
     "data": {
      "text/plain": [
       "<matplotlib.axes._subplots.AxesSubplot at 0xeb99802f48>"
      ]
     },
     "execution_count": 16,
     "metadata": {},
     "output_type": "execute_result"
    },
    {
     "data": {
      "image/png": "[encoded data removed]",
      "text/plain": [
       "<Figure size 1440x1080 with 2 Axes>"
      ]
     },
     "metadata": {
      "needs_background": "light"
     },
     "output_type": "display_data"
    }
   ],
   "source": [
    "#Finding Correlation between variables\n",
    "corr = data.corr()\n",
    "mask = np.zeros(corr.shape, dtype=bool)\n",
    "mask[np.triu_indices(len(mask))] = True\n",
    "plt.subplots(figsize=(20,15))\n",
    "sns.heatmap(corr, xticklabels=corr.columns, yticklabels=corr.columns,cmap='RdYlGn',annot=True,mask = mask)"
   ]
  },
  {
   "cell_type": "markdown",
   "metadata": {
    "id": "CHV6DdhBZRiv"
   },
   "source": [
    "These variables that are correlated cause errors in the prediction, so removing them\n"
   ]
  },
  {
   "cell_type": "code",
   "execution_count": 17,
   "metadata": {
    "id": "fVd68GNMkYoL"
   },
   "outputs": [],
   "source": [
    "#Removing few columns due to multicollinearity\n",
    "data.drop(columns=['cast_total_facebook_likes','num_critic_for_reviews'],inplace=True)"
   ]
  },
  {
   "cell_type": "markdown",
   "metadata": {
    "id": "ek4QNCrm0Z58"
   },
   "source": [
    "Removing the column \"imdb_score\" since we have \"imdb_binned\n",
    "\n",
    "I am gonna train the model with imdb_binned not with imdb_score so dropping the column.\n"
   ]
  },
  {
   "cell_type": "code",
   "execution_count": 18,
   "metadata": {
    "id": "SIxIcmAvzcPI"
   },
   "outputs": [],
   "source": [
    "#Removing the column \"imdb_score\" since we have \"imdb_binned\"\n",
    "data.drop(columns=['imdb_score'],inplace=True)"
   ]
  },
  {
   "cell_type": "code",
   "execution_count": 19,
   "metadata": {
    "id": "-uZLoAnwcjJO",
    "outputId": "ce680e2a-4684-46cc-9bb6-f01071556461"
   },
   "outputs": [
    {
     "data": {
      "text/plain": [
       "(3756, 24)"
      ]
     },
     "execution_count": 19,
     "metadata": {},
     "output_type": "execute_result"
    }
   ],
   "source": [
    "data.shape"
   ]
  },
  {
   "cell_type": "markdown",
   "metadata": {
    "id": "r__-AMG08zKa"
   },
   "source": [
    "# 3 CLASSIFICATION MODEL BUILDING"
   ]
  },
  {
   "cell_type": "markdown",
   "metadata": {
    "id": "5yRAmtM1aNVO"
   },
   "source": [
    "Splitting the data into X and y where X contains Indepentent variables and y contain Target/Dependent variable.\n"
   ]
  },
  {
   "cell_type": "code",
   "execution_count": 20,
   "metadata": {
    "id": "g01XPGExcjNC",
    "outputId": "64142935-457a-4d15-8264-a694576c79ed"
   },
   "outputs": [
    {
     "data": {
      "text/plain": [
       "[HIT, HIT, HIT, HIT, HIT, ..., HIT, HIT, HIT, HIT, HIT]\n",
       "Length: 3756\n",
       "Categories (3, object): [FLOP < AVG < HIT]"
      ]
     },
     "execution_count": 20,
     "metadata": {},
     "output_type": "execute_result"
    }
   ],
   "source": [
    "#Independent Variables\n",
    "X = data.iloc[:, 0:23].values\n",
    "#Dependent/Target Variable\n",
    "y = data.iloc[:, 23].values\n",
    "y"
   ]
  },
  {
   "cell_type": "markdown",
   "metadata": {
    "id": "TNlmQcB8aMrQ"
   },
   "source": [
    "## 3.1 Train Test Split\n",
    "\n",
    "We need data not only to train our model but also to test our model. So splitting the dataset into 70:30 (Train:Test) ratio.We have a predefined a function in Sklearn library called test_train_split, lets use that."
   ]
  },
  {
   "cell_type": "code",
   "execution_count": 21,
   "metadata": {
    "id": "5tROd04FcjUN",
    "outputId": "64901b9e-ee26-42d1-962a-57757b31c1b2"
   },
   "outputs": [
    {
     "name": "stdout",
     "output_type": "stream",
     "text": [
      "(2629, 23)\n",
      "(2629,)\n"
     ]
    }
   ],
   "source": [
    "#Spliting the data into train and test\n",
    "from sklearn.model_selection import train_test_split\n",
    "X_train, X_test, y_train, y_test = train_test_split(X, y, test_size = 0.3, random_state = 0,stratify = y)\n",
    "print(X_train.shape)\n",
    "print(y_train.shape)"
   ]
  },
  {
   "cell_type": "markdown",
   "metadata": {
    "id": "aHU4HSv-bYMT"
   },
   "source": [
    "## 3.2 Scaling\n",
    "\n",
    "Few variables will be in the range of Millions and some in Tens, lets bring all of them into same scale\n"
   ]
  },
  {
   "cell_type": "code",
   "execution_count": 22,
   "metadata": {
    "id": "JRI6LfyLcjYU"
   },
   "outputs": [],
   "source": [
    "#Scaling the dependent variables\n",
    "from sklearn.preprocessing import StandardScaler\n",
    "sc = StandardScaler()\n",
    "X_train = sc.fit_transform(X_train)\n",
    "X_test = sc.transform(X_test)"
   ]
  },
  {
   "cell_type": "markdown",
   "metadata": {
    "id": "RCF9IHoxb2wI"
   },
   "source": [
    "## 3.4 Feature Selection using RFECV\n",
    "\n"
   ]
  },
  {
   "cell_type": "markdown",
   "metadata": {
    "id": "-LNox6E1Wpd1"
   },
   "source": [
    "Finding optimal features to use for Machine learning model training can sometimes be a difficult task to accomplish.There are just so many methods to choose from and here I am going with RFECV."
   ]
  },
  {
   "cell_type": "markdown",
   "metadata": {
    "id": "M8_YyiO1Wqeq"
   },
   "source": [
    "Recursive Feature Elimination  with Cross Validation\n",
    "\n",
    "Recursive — involving doing or saying the same thing several times in order to produce a particular result or effect\n",
    "\n",
    "Feature — individual measurable property or characteristic of a phenomenon being observed — an  attribute in your dataset\n",
    "\n",
    "Cross-Validation — a technique for evaluating ML models by training several ML models on subsets of the available input data and evaluating them on the complementary subset of the data. Use cross-validation to detect overfitting, ie, failing to generalize a pattern."
   ]
  },
  {
   "cell_type": "markdown",
   "metadata": {
    "id": "88lLv51QYp_q"
   },
   "source": [
    "You will need to declare two variables — X and y where first represents all the features, and the second represents the target variable. Then you’ll make an instance of the Machine learning algorithm (In this case RandomForests). In it, you can optionally pass a random state seed for reproducibility. Now you can create an instance of RFECV.\n",
    "\n",
    "\n"
   ]
  },
  {
   "cell_type": "code",
   "execution_count": null,
   "metadata": {
    "id": "qg_HTJDt--lS"
   },
   "outputs": [],
   "source": [
    "#Performing Recursive Feauture Elimation with Cross Validation\n",
    "#Using Random forest for RFE-CV and logloss as scoring\n",
    "from sklearn.feature_selection import RFECV\n",
    "from sklearn.ensemble import RandomForestClassifier\n",
    "from sklearn.metrics import log_loss\n",
    "clf_rf=RandomForestClassifier(random_state=0)\n",
    "rfecv=RFECV(estimator=clf_rf, step=1,cv=5,scoring='neg_log_loss')\n",
    "rfecv=rfecv.fit(X_train,y_train)"
   ]
  },
  {
   "cell_type": "code",
   "execution_count": null,
   "metadata": {
    "id": "ZLyUhZIi_HZa",
    "outputId": "7ea7fc8e-39fb-4c68-907a-548a6ea679fa"
   },
   "outputs": [],
   "source": [
    "#Optimal number of features\n",
    "X_train = pd.DataFrame(X_train)\n",
    "X_test = pd.DataFrame(X_test)\n",
    "print('Optimal number of features :', rfecv.n_features_)\n",
    "print('Best features :', X_train.columns[rfecv.support_])"
   ]
  },
  {
   "cell_type": "markdown",
   "metadata": {
    "id": "RxFi3iSTPPmx"
   },
   "source": [
    "|Features Selected |\tFeatures Dropped|\n",
    "| --- | --- |\n",
    "|duration| color|\n",
    "|director_facebook_likes\t| director name|\n",
    "|actor_3_facebook_likes\t| actor_2_name|\n",
    "|actor_1_facebook_likes|\tactor_1_name   |\n",
    "|gross|\tfacenumber_in_poster|\n",
    "|genres |\tlanguage|\n",
    "|num_voted_users |country\t|\n",
    "|actor_3_name \t| content_rating|\n",
    "|actor_3_name |\taspect_ratio|\n",
    "|plot_keywords |\t|\n",
    "|num_user_for_reviews |\t |\n",
    "|budget| |\n",
    "|title_year | \t|\n",
    "|actor_2_facebook_likes |\t |\n",
    "|movie_facebook_likes |\t |\n"
   ]
  },
  {
   "cell_type": "code",
   "execution_count": null,
   "metadata": {
    "id": "URnMrDLz_KYs"
   },
   "outputs": [],
   "source": [
    "#Feauture Ranking\n",
    "clf_rf = clf_rf.fit(X_train,y_train)\n",
    "importances = clf_rf.feature_importances_\n",
    "\n",
    "std = np.std([tree.feature_importances_ for tree in clf_rf.estimators_],\n",
    "             axis=0)\n",
    "indices = np.argsort(importances)[::-1]\n"
   ]
  },
  {
   "cell_type": "code",
   "execution_count": null,
   "metadata": {
    "id": "w7ONzE3v_OVs",
    "outputId": "cd528cea-f107-4953-dd01-23eb053db637"
   },
   "outputs": [],
   "source": [
    "#Logloss vs Number of features\n",
    "import matplotlib.pyplot as plt\n",
    "plt.figure()\n",
    "plt.xlabel(\"Number of features selected\")\n",
    "plt.ylabel(\"Cross validation score of number of selected features\")\n",
    "plt.title(\"Log loss vs Number of fetures\")\n",
    "plt.plot(range(1, len(rfecv.grid_scores_) + 1), rfecv.grid_scores_)\n",
    "plt.show()"
   ]
  },
  {
   "cell_type": "code",
   "execution_count": null,
   "metadata": {
    "id": "K9mkDj8DAW0n"
   },
   "outputs": [],
   "source": [
    "#Selecting the Important Features\n",
    "X_opt = X_train.iloc[:,X_train.columns[rfecv.support_]]\n",
    "X_test = X_test.iloc[:,X_test.columns[rfecv.support_]]"
   ]
  },
  {
   "cell_type": "code",
   "execution_count": null,
   "metadata": {
    "id": "F16nSSZwRYW2",
    "outputId": "cf06324e-31b0-4b6e-afe7-236e270e03ef"
   },
   "outputs": [],
   "source": [
    "#Creating anew dataframe with column names and feature importance\n",
    "dset = pd.DataFrame()\n",
    "data1 = data\n",
    "data1.drop(columns=['imdb_binned'],inplace=True)\n",
    "dset['attr'] = data1.columns\n",
    "\n",
    "dset['importance'] = clf_rf.feature_importances_\n",
    "#Sorting with importance column\n",
    "dset = dset.sort_values(by='importance', ascending=True)\n",
    "\n",
    "#Barplot indicating Feature Importance\n",
    "plt.figure(figsize=(16, 14))\n",
    "plt.barh(y=dset['attr'], width=dset['importance'], color='#1976D2')\n",
    "plt.title('RFECV - Feature Importances', fontsize=20, fontweight='bold', pad=20)\n",
    "plt.xlabel('Importance', fontsize=14, labelpad=20)\n",
    "plt.show()"
   ]
  },
  {
   "cell_type": "markdown",
   "metadata": {
    "id": "eBot54tQHbAK"
   },
   "source": [
    "## 3.4 Random Forest\n",
    "\n",
    "Random forests is an ensemble learning method for classification that operate by constructing a multitude of decision trees at training time and outputting the class that is the mode of the classes (classification)  of the individual trees\n",
    "\n",
    "*n_estimators* is a parameter that specify number of trees in the forest.\n",
    "\n",
    "*criterion* is to specify what function to measure the quality of a split. “entropy” is for the information gain. "
   ]
  },
  {
   "cell_type": "code",
   "execution_count": null,
   "metadata": {
    "id": "JQ_doeT7hj-Z",
    "outputId": "52cf55a4-ed73-436a-bb75-066af0cbb2f1"
   },
   "outputs": [],
   "source": [
    "#Training the Random Forest Classifer on Train data\n",
    "from sklearn.ensemble import RandomForestClassifier\n",
    "classifier = RandomForestClassifier(n_estimators = 100, criterion = 'entropy', random_state = 0)\n",
    "classifier.fit(X_opt, y_train)\n"
   ]
  },
  {
   "cell_type": "markdown",
   "metadata": {
    "id": "ncb7wwA2SXkH"
   },
   "source": [
    "Predicting the test data"
   ]
  },
  {
   "cell_type": "code",
   "execution_count": null,
   "metadata": {
    "id": "bv6u4-lXcjFw"
   },
   "outputs": [],
   "source": [
    "#Predicting the target variable\n",
    "y_pred = classifier.predict(X_test)"
   ]
  },
  {
   "cell_type": "markdown",
   "metadata": {
    "id": "Rg7keUykedDe"
   },
   "source": [
    "## 3.5 Confusion Matrix\n",
    "\n",
    "Confusion matrix gives a clear view of ground truth and prediction."
   ]
  },
  {
   "cell_type": "code",
   "execution_count": null,
   "metadata": {
    "id": "2Cp-RASLcjDA",
    "outputId": "0a349db5-fac9-4766-952f-bbfcd4875a54"
   },
   "outputs": [],
   "source": [
    "#Confusion Matrix\n",
    "from sklearn.metrics import confusion_matrix \n",
    "cm = confusion_matrix(y_test,y_pred)\n",
    "cm"
   ]
  },
  {
   "cell_type": "markdown",
   "metadata": {
    "id": "1hr8f0sMfILX"
   },
   "source": [
    "## 3.6 Classification Report"
   ]
  },
  {
   "cell_type": "code",
   "execution_count": null,
   "metadata": {
    "id": "fYbsAHZsci9d",
    "outputId": "258a9a00-4946-49cb-d636-5ae1cef59561"
   },
   "outputs": [],
   "source": [
    "#Classification Report\n",
    "from sklearn.metrics import classification_report\n",
    "cr = classification_report(y_test,y_pred)\n",
    "print(cr)"
   ]
  }
 ],
 "metadata": {
  "kernelspec": {
   "display_name": "Python 3",
   "language": "python",
   "name": "python3"
  },
  "language_info": {
   "codemirror_mode": {
    "name": "ipython",
    "version": 3
   },
   "file_extension": ".py",
   "mimetype": "text/x-python",
   "name": "python",
   "nbconvert_exporter": "python",
   "pygments_lexer": "ipython3",
   "version": "3.7.6"
  }
 },
 "nbformat": 4,
 "nbformat_minor": 4
}
